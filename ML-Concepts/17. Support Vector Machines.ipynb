{
 "cells": [
  {
   "cell_type": "markdown",
   "id": "0df6c86c-93f3-4916-bbfd-34ff57e38689",
   "metadata": {},
   "source": [
    "### Support Vector Machines\n",
    "- To understand support vector machines, we must first understand hyperplanes. \n",
    "\n",
    "- Formally, a hyperplane is an n-1 subspace in an n-dimensional space. A hyperplan is simply a generalization of that concept of\n",
    "n dimensions.\n",
    "\n",
    "- SVM classify data by finding the hyperplane that maximizes the margin between the classes in the training data. In a \n",
    "two-dimensional example with two classes, we can think of a hyperplane as the widest straight 'band' that seperates the two classes."
   ]
  },
  {
   "cell_type": "code",
   "execution_count": null,
   "id": "54285122-f707-41b1-883c-b11dea5971c2",
   "metadata": {},
   "outputs": [],
   "source": []
  }
 ],
 "metadata": {
  "kernelspec": {
   "display_name": "Python 3 (ipykernel)",
   "language": "python",
   "name": "python3"
  },
  "language_info": {
   "codemirror_mode": {
    "name": "ipython",
    "version": 3
   },
   "file_extension": ".py",
   "mimetype": "text/x-python",
   "name": "python",
   "nbconvert_exporter": "python",
   "pygments_lexer": "ipython3",
   "version": "3.11.5"
  }
 },
 "nbformat": 4,
 "nbformat_minor": 5
}
