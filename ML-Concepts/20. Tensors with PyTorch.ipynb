{
 "cells": [
  {
   "cell_type": "markdown",
   "id": "9766f96c-98f7-4dd9-a412-6783e7b570b5",
   "metadata": {},
   "source": [
    "### Tensors with PyTorch\n",
    "- PyTorch tensors are very similar to Numpy arrays. However, they allow us to perform tensor operations on GPUs."
   ]
  },
  {
   "cell_type": "code",
   "execution_count": null,
   "id": "1f7c0f9d-081e-4797-8526-2310b4edcd2d",
   "metadata": {},
   "outputs": [],
   "source": []
  }
 ],
 "metadata": {
  "kernelspec": {
   "display_name": "Python 3 (ipykernel)",
   "language": "python",
   "name": "python3"
  },
  "language_info": {
   "codemirror_mode": {
    "name": "ipython",
    "version": 3
   },
   "file_extension": ".py",
   "mimetype": "text/x-python",
   "name": "python",
   "nbconvert_exporter": "python",
   "pygments_lexer": "ipython3",
   "version": "3.11.5"
  }
 },
 "nbformat": 4,
 "nbformat_minor": 5
}
