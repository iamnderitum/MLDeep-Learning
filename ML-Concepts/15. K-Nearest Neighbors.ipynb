{
 "cells": [
  {
   "cell_type": "markdown",
   "id": "5e8a9928-ce5d-49e4-930d-d360e35435f9",
   "metadata": {},
   "source": [
    "### K-Nearest Neighbors\n",
    "- KNN classifier is one of the simplest yet most common used classifiers in supervised machine learning.\n",
    "\n",
    "- KNN is ofter considered a lazy learner; It doesnt technically train a model to make predictions. Instead an observation is \n",
    "predicted to be the same class as that of the largest portion of the k nearest observations."
   ]
  },
  {
   "cell_type": "code",
   "execution_count": null,
   "id": "f8304840-d11e-4a0a-bae7-73f5b19cb7e7",
   "metadata": {},
   "outputs": [],
   "source": []
  }
 ],
 "metadata": {
  "kernelspec": {
   "display_name": "Python 3 (ipykernel)",
   "language": "python",
   "name": "python3"
  },
  "language_info": {
   "codemirror_mode": {
    "name": "ipython",
    "version": 3
   },
   "file_extension": ".py",
   "mimetype": "text/x-python",
   "name": "python",
   "nbconvert_exporter": "python",
   "pygments_lexer": "ipython3",
   "version": "3.11.5"
  }
 },
 "nbformat": 4,
 "nbformat_minor": 5
}
