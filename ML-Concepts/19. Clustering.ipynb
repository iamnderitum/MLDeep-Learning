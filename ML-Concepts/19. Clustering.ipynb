{
 "cells": [
  {
   "cell_type": "markdown",
   "id": "d0859c55-39ad-4297-895c-09f648938010",
   "metadata": {},
   "source": [
    "### Clustering\n",
    "- The goal of clustering algorithms is to identify the latent groupings of observations, allowing us to predict the class\n",
    "of observations even without a target vector. "
   ]
  },
  {
   "cell_type": "code",
   "execution_count": null,
   "id": "81e48fc4-2bc1-462b-9be0-d84b12595cae",
   "metadata": {},
   "outputs": [],
   "source": []
  }
 ],
 "metadata": {
  "kernelspec": {
   "display_name": "Python 3 (ipykernel)",
   "language": "python",
   "name": "python3"
  },
  "language_info": {
   "codemirror_mode": {
    "name": "ipython",
    "version": 3
   },
   "file_extension": ".py",
   "mimetype": "text/x-python",
   "name": "python",
   "nbconvert_exporter": "python",
   "pygments_lexer": "ipython3",
   "version": "3.11.5"
  }
 },
 "nbformat": 4,
 "nbformat_minor": 5
}
