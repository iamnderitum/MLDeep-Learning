{
 "cells": [
  {
   "cell_type": "markdown",
   "id": "0bc3e89e-a95b-45ff-a829-bbfb048e0dc0",
   "metadata": {},
   "source": [
    "### Logistic Regression\n",
    "- Despite being called a regression, *logistic regression* is actually a widely used supervised classification technique.\n",
    "\n",
    "- Logistic regression is a straightforward, well understood approach to predicting the probability that an observation is of a \n",
    "certain class."
   ]
  },
  {
   "cell_type": "code",
   "execution_count": null,
   "id": "41c6f31f-7d10-4df1-9a21-36ff2acdc444",
   "metadata": {},
   "outputs": [],
   "source": []
  }
 ],
 "metadata": {
  "kernelspec": {
   "display_name": "Python 3 (ipykernel)",
   "language": "python",
   "name": "python3"
  },
  "language_info": {
   "codemirror_mode": {
    "name": "ipython",
    "version": 3
   },
   "file_extension": ".py",
   "mimetype": "text/x-python",
   "name": "python",
   "nbconvert_exporter": "python",
   "pygments_lexer": "ipython3",
   "version": "3.11.5"
  }
 },
 "nbformat": 4,
 "nbformat_minor": 5
}
