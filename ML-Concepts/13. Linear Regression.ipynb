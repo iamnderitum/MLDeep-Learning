{
 "cells": [
  {
   "cell_type": "markdown",
   "id": "7025a2ab-ded1-4107-b9bd-1829773f0612",
   "metadata": {},
   "source": [
    "### Linear Regression\n",
    "- This is one of the simplest supervised learning algorithms."
   ]
  },
  {
   "cell_type": "code",
   "execution_count": null,
   "id": "126e4e7e-2737-4923-8ba7-84fead420b69",
   "metadata": {},
   "outputs": [],
   "source": []
  }
 ],
 "metadata": {
  "kernelspec": {
   "display_name": "Python 3 (ipykernel)",
   "language": "python",
   "name": "python3"
  },
  "language_info": {
   "codemirror_mode": {
    "name": "ipython",
    "version": 3
   },
   "file_extension": ".py",
   "mimetype": "text/x-python",
   "name": "python",
   "nbconvert_exporter": "python",
   "pygments_lexer": "ipython3",
   "version": "3.11.5"
  }
 },
 "nbformat": 4,
 "nbformat_minor": 5
}
