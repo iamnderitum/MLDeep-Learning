{
 "cells": [
  {
   "cell_type": "markdown",
   "id": "6ffcf304-dd53-481b-b330-0a9ef3f89172",
   "metadata": {},
   "source": [
    "### Trees and Forests\n",
    "- Tree-based learning algorithms are a broad and popular family of related non-parametric supervised methods for both classification\n",
    "and regression. \n",
    "\n",
    "- The basis of tree-based learners is the *decision tree*, wherein a series of decision rules are chained, with the first \n",
    "decision rule at the top, and subsequent decision riles spreading below.\n",
    "\n",
    "- Every decision occurs at a decision node, with the rule creating branches leading to new nodes. A branch without a decision rule\n",
    "at the end is called a **leaf**."
   ]
  },
  {
   "cell_type": "code",
   "execution_count": null,
   "id": "60b068a9-e4ed-4370-b44b-30527153244e",
   "metadata": {},
   "outputs": [],
   "source": []
  }
 ],
 "metadata": {
  "kernelspec": {
   "display_name": "Python 3 (ipykernel)",
   "language": "python",
   "name": "python3"
  },
  "language_info": {
   "codemirror_mode": {
    "name": "ipython",
    "version": 3
   },
   "file_extension": ".py",
   "mimetype": "text/x-python",
   "name": "python",
   "nbconvert_exporter": "python",
   "pygments_lexer": "ipython3",
   "version": "3.11.5"
  }
 },
 "nbformat": 4,
 "nbformat_minor": 5
}
