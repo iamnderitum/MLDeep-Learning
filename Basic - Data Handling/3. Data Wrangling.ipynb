{
 "cells": [
  {
   "cell_type": "markdown",
   "id": "a75425d4-0dc9-40eb-964d-6f3c94daf8d4",
   "metadata": {},
   "source": [
    "### Data Wrangling\n",
    "- Data wrangling is a broad term used, often informally, to describe the process of transforming raw data i nto a clean, \n",
    "organized format ready for use. This is only one step in preprocessing our data.\n",
    "\n",
    "- The mose common data structure used to 'wrangle' data is the dataframe, which can be both intuitive and incredibly versatile.\n",
    "\n",
    "- Dataframes are tabular, meaning they are based on rows and columns."
   ]
  },
  {
   "cell_type": "code",
   "execution_count": 1,
   "id": "5b0194c7-7950-4adb-85ed-b1c558617dcb",
   "metadata": {},
   "outputs": [],
   "source": [
    "import pandas as pd"
   ]
  },
  {
   "cell_type": "code",
   "execution_count": 6,
   "id": "c1b2e200-fc91-4116-bbce-6088ac44963f",
   "metadata": {},
   "outputs": [
    {
     "name": "stdout",
     "output_type": "stream",
     "text": [
      "<class 'pandas.core.frame.DataFrame'>\n",
      "RangeIndex: 1313 entries, 0 to 1312\n",
      "Data columns (total 6 columns):\n",
      " #   Column    Non-Null Count  Dtype  \n",
      "---  ------    --------------  -----  \n",
      " 0   Name      1313 non-null   object \n",
      " 1   PClass    1313 non-null   object \n",
      " 2   Age       756 non-null    float64\n",
      " 3   Sex       1313 non-null   object \n",
      " 4   Survived  1313 non-null   int64  \n",
      " 5   SexCode   1313 non-null   int64  \n",
      "dtypes: float64(1), int64(2), object(3)\n",
      "memory usage: 61.7+ KB\n"
     ]
    }
   ],
   "source": [
    "url = 'https://raw.githubusercontent.com/chrisalbon/sim_data/master/titanic.csv'\n",
    "\n",
    "df = pd.read_csv(url)\n",
    "\n",
    "df.info()"
   ]
  },
  {
   "cell_type": "markdown",
   "id": "32bf2311-6048-407c-8988-c5c8759607c6",
   "metadata": {},
   "source": [
    "#### Slicing Dataframes\n",
    "- To select individual rows and slices of rows, pandas provides two methods:\n",
    "    - loc - useful when the index of the DataFrame is lable(eg., string)\n",
    "    - iloc - works by looking for the position  in the DataFrame (Numerical positions)"
   ]
  },
  {
   "cell_type": "code",
   "execution_count": null,
   "id": "fa70a374-7e79-4a64-95b5-64009eb1e522",
   "metadata": {},
   "outputs": [],
   "source": []
  }
 ],
 "metadata": {
  "kernelspec": {
   "display_name": "Python 3 (ipykernel)",
   "language": "python",
   "name": "python3"
  },
  "language_info": {
   "codemirror_mode": {
    "name": "ipython",
    "version": 3
   },
   "file_extension": ".py",
   "mimetype": "text/x-python",
   "name": "python",
   "nbconvert_exporter": "python",
   "pygments_lexer": "ipython3",
   "version": "3.11.5"
  }
 },
 "nbformat": 4,
 "nbformat_minor": 5
}
