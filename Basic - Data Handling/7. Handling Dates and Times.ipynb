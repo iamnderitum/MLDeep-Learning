{
 "cells": [
  {
   "cell_type": "markdown",
   "id": "cac49339-ed16-49dd-895b-41ce0c3173bd",
   "metadata": {},
   "source": [
    "### Handling Dates and Times\n",
    "- Longitudinal data (or **times series data** ) is data that's collected repeatedly for some variables over points in time.\n",
    "\n",
    "- Here, we will build a toolbox of strategies for handline time series data, including tackling time zones, creating lagged time features."
   ]
  },
  {
   "cell_type": "code",
   "execution_count": null,
   "id": "3b1ca733-b7fe-4433-9d79-3787a0bdb081",
   "metadata": {},
   "outputs": [],
   "source": []
  }
 ],
 "metadata": {
  "kernelspec": {
   "display_name": "Python 3 (ipykernel)",
   "language": "python",
   "name": "python3"
  },
  "language_info": {
   "codemirror_mode": {
    "name": "ipython",
    "version": 3
   },
   "file_extension": ".py",
   "mimetype": "text/x-python",
   "name": "python",
   "nbconvert_exporter": "python",
   "pygments_lexer": "ipython3",
   "version": "3.11.5"
  }
 },
 "nbformat": 4,
 "nbformat_minor": 5
}
