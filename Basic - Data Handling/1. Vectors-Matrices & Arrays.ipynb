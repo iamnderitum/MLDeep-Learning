{
 "cells": [
  {
   "cell_type": "markdown",
   "id": "10cba4d7-531b-4791-8d52-a82c269f64e6",
   "metadata": {},
   "source": [
    "### 1. VECTORS, MATRICES & ARRAYS"
   ]
  },
  {
   "cell_type": "code",
   "execution_count": 1,
   "id": "5fd41752-d12b-4ca4-8f91-a64c342d614f",
   "metadata": {},
   "outputs": [],
   "source": [
    "import numpy as np\n",
    "from scipy import sparse"
   ]
  },
  {
   "cell_type": "code",
   "execution_count": 2,
   "id": "72385589-441f-46d9-a204-420d587d23f4",
   "metadata": {},
   "outputs": [
    {
     "data": {
      "text/plain": [
       "[[0, 0], [0, 1], [3, 0]]"
      ]
     },
     "execution_count": 2,
     "metadata": {},
     "output_type": "execute_result"
    }
   ],
   "source": [
    "matrix = ([[0,0],\n",
    "          [0,1],\n",
    "          [3,0]])\n",
    "\n",
    "matrix"
   ]
  },
  {
   "cell_type": "code",
   "execution_count": 3,
   "id": "11e7eb57-0d12-4d85-9c0f-97ca7d90579f",
   "metadata": {},
   "outputs": [
    {
     "name": "stdout",
     "output_type": "stream",
     "text": [
      "  (1, 1)\t1\n",
      "  (2, 0)\t3\n"
     ]
    }
   ],
   "source": [
    "matrix_sparse = sparse.csr_matrix(matrix)\n",
    "print(matrix_sparse)"
   ]
  },
  {
   "cell_type": "code",
   "execution_count": 4,
   "id": "56cad9c4-626b-45a8-9a12-4057ce4dbe16",
   "metadata": {},
   "outputs": [
    {
     "data": {
      "text/plain": [
       "array([[3, 4, 6],\n",
       "       [7, 6, 8],\n",
       "       [3, 1, 7],\n",
       "       [6, 9, 4]])"
      ]
     },
     "execution_count": 4,
     "metadata": {},
     "output_type": "execute_result"
    }
   ],
   "source": [
    "new_matrix = ([[3, 4, 6],\n",
    "              [7, 6, 8],\n",
    "              [3, 1, 7],\n",
    "              [6, 9, 4]])\n",
    "#new_matrix.mean()\n",
    "np.std(new_matrix, axis=0)\n",
    "new_array = np.array(new_matrix)\n",
    "new_array"
   ]
  },
  {
   "cell_type": "code",
   "execution_count": 5,
   "id": "14848ba0-814c-481e-8195-c7db486907ed",
   "metadata": {},
   "outputs": [
    {
     "data": {
      "text/plain": [
       "array([[3, 4, 6, 7],\n",
       "       [6, 8, 3, 1],\n",
       "       [7, 6, 9, 4]])"
      ]
     },
     "execution_count": 5,
     "metadata": {},
     "output_type": "execute_result"
    }
   ],
   "source": [
    "my_array = new_array.reshape(3,4)\n",
    "my_array"
   ]
  },
  {
   "cell_type": "code",
   "execution_count": 18,
   "id": "f6d1c52b-8a83-4771-ba86-df56273b1e48",
   "metadata": {},
   "outputs": [
    {
     "data": {
      "text/plain": [
       "array([[3, 6, 7],\n",
       "       [4, 8, 6],\n",
       "       [6, 3, 9],\n",
       "       [7, 1, 4]])"
      ]
     },
     "execution_count": 18,
     "metadata": {},
     "output_type": "execute_result"
    }
   ],
   "source": [
    "transposed_array = my_array.T\n",
    "transposed_array"
   ]
  },
  {
   "cell_type": "code",
   "execution_count": 7,
   "id": "e2ba9f3a-6f30-4d27-b32f-b49e5511d323",
   "metadata": {},
   "outputs": [
    {
     "name": "stdout",
     "output_type": "stream",
     "text": [
      "8\n",
      "\n",
      " [7 6 9]\n",
      "\n",
      " [7 1 4]\n",
      "\n",
      " [[8 6]\n",
      " [3 9]]\n",
      "\n",
      " [[3]\n",
      " [1]]\n"
     ]
    }
   ],
   "source": [
    "print(transposed_array[1, 1])\n",
    "\n",
    "print('\\n',transposed_array[:3,2])\n",
    "\n",
    "print('\\n',transposed_array[3, :])\n",
    "\n",
    "print('\\n',transposed_array[1:3, 1:])\n",
    "\n",
    "print('\\n',transposed_array[2:, 1:2])"
   ]
  },
  {
   "cell_type": "code",
   "execution_count": 8,
   "id": "3e600e36-3f03-45c8-bb6c-1794a3068200",
   "metadata": {},
   "outputs": [
    {
     "name": "stdout",
     "output_type": "stream",
     "text": [
      "\n",
      " (4, 3)\n",
      "\n",
      " 12\n",
      "\n",
      " int64\n",
      "\n",
      " 2\n"
     ]
    }
   ],
   "source": [
    "print('\\n',transposed_array.shape)\n",
    "print('\\n',transposed_array.size)\n",
    "print('\\n',transposed_array.dtype)\n",
    "print('\\n',transposed_array.ndim)"
   ]
  },
  {
   "cell_type": "code",
   "execution_count": 9,
   "id": "9e6d0f78-d1b7-4d0e-ab27-62c5dc275e7f",
   "metadata": {},
   "outputs": [
    {
     "name": "stdout",
     "output_type": "stream",
     "text": [
      "\n",
      " [7 8 9]\n",
      "\n",
      " 1\n"
     ]
    }
   ],
   "source": [
    "print('\\n',transposed_array.max(axis=0))\n",
    "print('\\n',transposed_array.min())"
   ]
  },
  {
   "cell_type": "markdown",
   "id": "53739cbb-a899-4de4-9be7-cd9469d9668c",
   "metadata": {},
   "source": [
    "##### Flattening\n",
    "- Transoform a matrix into a one dimensional array\n"
   ]
  },
  {
   "cell_type": "code",
   "execution_count": 10,
   "id": "23067aa9-0d5c-44da-b260-9b7e2a6068e3",
   "metadata": {},
   "outputs": [
    {
     "data": {
      "text/plain": [
       "array([3, 6, 7, 4, 8, 6, 6, 3, 9, 7, 1, 4])"
      ]
     },
     "execution_count": 10,
     "metadata": {},
     "output_type": "execute_result"
    }
   ],
   "source": [
    "flat_martix = transposed_array.flatten()\n",
    "flat_martix"
   ]
  },
  {
   "cell_type": "markdown",
   "id": "72019ebe-4d67-4310-841d-8bda307ed1b4",
   "metadata": {},
   "source": [
    "##### Rank of a matrix\n",
    "- The rank of a matrix is the dimensions of the vector space spanned by its columns or rows.\n",
    "Finding the rank of a matrix is easy in NumPy thanks to matrix_rank."
   ]
  },
  {
   "cell_type": "code",
   "execution_count": 11,
   "id": "87ba8ab3-2bb3-4477-85e1-0514ce8d75af",
   "metadata": {},
   "outputs": [
    {
     "data": {
      "text/plain": [
       "3"
      ]
     },
     "execution_count": 11,
     "metadata": {},
     "output_type": "execute_result"
    }
   ],
   "source": [
    "np.linalg.matrix_rank(transposed_array)"
   ]
  },
  {
   "cell_type": "markdown",
   "id": "89a71225-44f8-4bf2-a01d-798c592736d7",
   "metadata": {},
   "source": [
    "#### Diagonal of a matrix"
   ]
  },
  {
   "cell_type": "code",
   "execution_count": 12,
   "id": "69a0cd29-d905-4877-9c0e-e503218b8603",
   "metadata": {},
   "outputs": [
    {
     "data": {
      "text/plain": [
       "array([3, 8, 9])"
      ]
     },
     "execution_count": 12,
     "metadata": {},
     "output_type": "execute_result"
    }
   ],
   "source": [
    "transposed_array.diagonal()"
   ]
  },
  {
   "cell_type": "markdown",
   "id": "56bdb2da-4302-4a6d-946a-9de301d3045b",
   "metadata": {},
   "source": [
    "#### Trace of a matrix\n",
    "- The trace of a matrix is the sum of the diagonal elements and is often used under the hood in machine learning methods."
   ]
  },
  {
   "cell_type": "code",
   "execution_count": 13,
   "id": "effb1779-da7e-4412-b412-558e2df837dd",
   "metadata": {},
   "outputs": [
    {
     "name": "stdout",
     "output_type": "stream",
     "text": [
      "20\n",
      "20\n"
     ]
    }
   ],
   "source": [
    "print(transposed_array.trace())\n",
    "print(sum(transposed_array.diagonal()))"
   ]
  },
  {
   "cell_type": "code",
   "execution_count": 14,
   "id": "a4cd2797-9ca9-49eb-9f0e-ee1caa5f5bbe",
   "metadata": {},
   "outputs": [
    {
     "data": {
      "text/plain": [
       "array([[ 94, 102,  99,  55],\n",
       "       [102, 116, 102,  60],\n",
       "       [ 99, 102, 126,  81],\n",
       "       [ 55,  60,  81,  66]])"
      ]
     },
     "execution_count": 14,
     "metadata": {},
     "output_type": "execute_result"
    }
   ],
   "source": [
    "np.dot(transposed_array, my_array)"
   ]
  },
  {
   "cell_type": "markdown",
   "id": "78729734-dd73-4d86-850e-37dc03442897",
   "metadata": {},
   "source": [
    "\n",
    "\n",
    "#### Inverse of a matrix\n",
    "- The inverse of a square matrix, A, is a second matrix, A–1, such that:\n",
    "\n",
    "AA ^−1 = I\n",
    "\n",
    "- where I is the identity matrix. In NumPy we can use linalg.inv to calculate A–1 if it exists.\n",
    "\n",
    "- Non-square matrices do not have inverses."
   ]
  },
  {
   "cell_type": "code",
   "execution_count": 22,
   "id": "240997b9-6bc2-4bdb-9f59-28c02e28a7b6",
   "metadata": {},
   "outputs": [
    {
     "data": {
      "text/plain": [
       "array([[-6.00000000e-01,  3.66666667e-01,  2.22222222e-01],\n",
       "       [-2.22044605e-17,  1.66666667e-01, -1.11111111e-01],\n",
       "       [ 4.00000000e-01, -3.00000000e-01, -1.11022302e-17]])"
      ]
     },
     "execution_count": 22,
     "metadata": {},
     "output_type": "execute_result"
    }
   ],
   "source": [
    "sq_matrix = transposed_array[:3, :3]\n",
    "\n",
    "inverse_matrix = np.linalg.inv(sq_matrix)\n",
    "inverse_matrix"
   ]
  },
  {
   "cell_type": "code",
   "execution_count": null,
   "id": "a34478f8-885f-4163-9d44-12958673832d",
   "metadata": {},
   "outputs": [],
   "source": []
  }
 ],
 "metadata": {
  "kernelspec": {
   "display_name": "Python 3 (ipykernel)",
   "language": "python",
   "name": "python3"
  },
  "language_info": {
   "codemirror_mode": {
    "name": "ipython",
    "version": 3
   },
   "file_extension": ".py",
   "mimetype": "text/x-python",
   "name": "python",
   "nbconvert_exporter": "python",
   "pygments_lexer": "ipython3",
   "version": "3.11.5"
  }
 },
 "nbformat": 4,
 "nbformat_minor": 5
}
