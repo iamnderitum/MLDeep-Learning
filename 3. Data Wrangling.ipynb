{
 "cells": [
  {
   "cell_type": "markdown",
   "id": "a75425d4-0dc9-40eb-964d-6f3c94daf8d4",
   "metadata": {},
   "source": [
    "### Data Wrangling\n",
    "- Data wrangling is a broad term used, often informally, to describe the process of transforming raw data i nto a clean, \n",
    "organized format ready for use. This is only one step in preprocessing our data.\n",
    "\n",
    "- The mose common data structure used to 'wrangle' data is the dataframe, which can be both intuitive and incredibly versatile.\n",
    "\n",
    "- Dataframes are tabular, meaning they are based on rows and columns."
   ]
  },
  {
   "cell_type": "code",
   "execution_count": null,
   "id": "5b0194c7-7950-4adb-85ed-b1c558617dcb",
   "metadata": {},
   "outputs": [],
   "source": []
  }
 ],
 "metadata": {
  "kernelspec": {
   "display_name": "Python 3 (ipykernel)",
   "language": "python",
   "name": "python3"
  },
  "language_info": {
   "codemirror_mode": {
    "name": "ipython",
    "version": 3
   },
   "file_extension": ".py",
   "mimetype": "text/x-python",
   "name": "python",
   "nbconvert_exporter": "python",
   "pygments_lexer": "ipython3",
   "version": "3.11.5"
  }
 },
 "nbformat": 4,
 "nbformat_minor": 5
}
