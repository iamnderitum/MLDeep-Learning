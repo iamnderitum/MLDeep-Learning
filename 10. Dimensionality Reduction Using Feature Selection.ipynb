{
 "cells": [
  {
   "cell_type": "markdown",
   "id": "405bf2db-75ae-416b-a6b4-87bbd3509e74",
   "metadata": {},
   "source": [
    "### Dimensionality Reduction Using Feature Selection\n",
    "- This is the process of selecting high-quality, informative features and dropping less useful features.\n",
    "\n",
    "- There are 3 types of feature selection methods:\n",
    "    - Filter -Selects best features by examining their statistical properties\n",
    "    - Wrapper - Uses trial and error to find the subset of features that produces models with the highest quality predictions. They are the most effective, as they find best result via actual experimentations as opposed to naive assumptions.\n",
    "    - Embedded - Selects the best feature subset as part of, as an extension of, a learning algorithm's training process."
   ]
  },
  {
   "cell_type": "code",
   "execution_count": null,
   "id": "ad1ad68f-9fa1-491e-8e79-ee67faded099",
   "metadata": {},
   "outputs": [],
   "source": []
  }
 ],
 "metadata": {
  "kernelspec": {
   "display_name": "Python 3 (ipykernel)",
   "language": "python",
   "name": "python3"
  },
  "language_info": {
   "codemirror_mode": {
    "name": "ipython",
    "version": 3
   },
   "file_extension": ".py",
   "mimetype": "text/x-python",
   "name": "python",
   "nbconvert_exporter": "python",
   "pygments_lexer": "ipython3",
   "version": "3.11.5"
  }
 },
 "nbformat": 4,
 "nbformat_minor": 5
}
