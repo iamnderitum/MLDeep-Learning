{
 "cells": [
  {
   "cell_type": "markdown",
   "id": "0cf4a53e-0af8-4fa0-a0b5-fc83e517d6b3",
   "metadata": {},
   "source": [
    "### Saving, Loading, and Serving Trained Models\n",
    "- ML models are typically deployed in simple web servers and designed to take input data and return predictions. This makes the\n",
    "model available to any client on the same network, so other services can use ML model to make predictions wherever they are in real time\n"
   ]
  },
  {
   "cell_type": "code",
   "execution_count": null,
   "id": "304380d6-4286-4f1d-a7bc-4cbb35ebaaa6",
   "metadata": {},
   "outputs": [],
   "source": []
  }
 ],
 "metadata": {
  "kernelspec": {
   "display_name": "Python 3 (ipykernel)",
   "language": "python",
   "name": "python3"
  },
  "language_info": {
   "codemirror_mode": {
    "name": "ipython",
    "version": 3
   },
   "file_extension": ".py",
   "mimetype": "text/x-python",
   "name": "python",
   "nbconvert_exporter": "python",
   "pygments_lexer": "ipython3",
   "version": "3.11.5"
  }
 },
 "nbformat": 4,
 "nbformat_minor": 5
}
