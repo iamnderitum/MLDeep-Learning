{
 "cells": [
  {
   "cell_type": "markdown",
   "id": "94d3e5b7-611a-4092-bd86-7cc166d12d39",
   "metadata": {},
   "source": [
    "### Handling Categorical Data\n",
    "- It is often Useful to measure objects not in terms of their quantity but in terms of some quality.\n",
    "\n",
    "- We frequently represent qualitative information in categories such as gender, colors, or brand of cars.\n",
    "\n",
    "- However, not all categorical data is the same.\n",
    "\n",
    "- Sets of categories with no intrinsic ordering are called *nominal* . Example of nominal categories include:\n",
    "    - Blue, Red, Green\n",
    "    - Man, Woman\n",
    "    - BMW, Escalade, Mercedez\n",
    "\n",
    "- In contrast, when a set of categories has some natural ordering, we refer to it as *ordinal*. Eg.\n",
    "    - Low, Medium, High\n",
    "    - Young, Old\n",
    "    - Agree, Neutral, Disagree\n",
    "\n",
    "- Categorical information is often represented in data as a vector or column of strings. The problem is that most machine learning \n",
    "algorithm require inputs to be numerical values.\n"
   ]
  },
  {
   "cell_type": "code",
   "execution_count": null,
   "id": "700d95b4-d61f-41bd-a547-075a0cc26ef5",
   "metadata": {},
   "outputs": [],
   "source": []
  }
 ],
 "metadata": {
  "kernelspec": {
   "display_name": "Python 3 (ipykernel)",
   "language": "python",
   "name": "python3"
  },
  "language_info": {
   "codemirror_mode": {
    "name": "ipython",
    "version": 3
   },
   "file_extension": ".py",
   "mimetype": "text/x-python",
   "name": "python",
   "nbconvert_exporter": "python",
   "pygments_lexer": "ipython3",
   "version": "3.11.5"
  }
 },
 "nbformat": 4,
 "nbformat_minor": 5
}
