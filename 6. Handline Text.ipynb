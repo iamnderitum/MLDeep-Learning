{
 "cells": [
  {
   "cell_type": "markdown",
   "id": "ecf48ea6-5439-42b6-b769-fe0eca274d67",
   "metadata": {},
   "source": [
    "### Handling Text\n",
    "- Unstructured text data, like the contents of a book or a tweet, is both one of the most interesting sources of features and\n",
    "one of the most complex to handle."
   ]
  },
  {
   "cell_type": "code",
   "execution_count": null,
   "id": "774036cd-c92a-418a-ae93-8fd5fd02edaf",
   "metadata": {},
   "outputs": [],
   "source": []
  }
 ],
 "metadata": {
  "kernelspec": {
   "display_name": "Python 3 (ipykernel)",
   "language": "python",
   "name": "python3"
  },
  "language_info": {
   "codemirror_mode": {
    "name": "ipython",
    "version": 3
   },
   "file_extension": ".py",
   "mimetype": "text/x-python",
   "name": "python",
   "nbconvert_exporter": "python",
   "pygments_lexer": "ipython3",
   "version": "3.11.5"
  }
 },
 "nbformat": 4,
 "nbformat_minor": 5
}
