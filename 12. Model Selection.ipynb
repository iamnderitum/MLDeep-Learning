{
 "cells": [
  {
   "cell_type": "markdown",
   "id": "3a933039-0797-422b-a399-97b949630954",
   "metadata": {},
   "source": [
    "### Model Selection\n",
    "- In ML, we use training algorithms to learn parameters of a model by **minimizing some loss function**. However, many learning\n",
    "algorithms(eg. support vector classifier and random forests) have additional *hyperparameters* that are defined by the user and affect\n",
    "how the model will learn its parameters.\n",
    "\n",
    "- Parameters(also sometimes called Model Weights) are what models learn during the training process, whereas hyperparameters are\n",
    "provided manually by the users."
   ]
  },
  {
   "cell_type": "code",
   "execution_count": null,
   "id": "b5c02cc8-758d-422e-949e-3b24e2f9151d",
   "metadata": {},
   "outputs": [],
   "source": []
  }
 ],
 "metadata": {
  "kernelspec": {
   "display_name": "Python 3 (ipykernel)",
   "language": "python",
   "name": "python3"
  },
  "language_info": {
   "codemirror_mode": {
    "name": "ipython",
    "version": 3
   },
   "file_extension": ".py",
   "mimetype": "text/x-python",
   "name": "python",
   "nbconvert_exporter": "python",
   "pygments_lexer": "ipython3",
   "version": "3.11.5"
  }
 },
 "nbformat": 4,
 "nbformat_minor": 5
}
