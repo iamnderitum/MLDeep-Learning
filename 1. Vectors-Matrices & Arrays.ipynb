{
 "cells": [
  {
   "cell_type": "markdown",
   "id": "10cba4d7-531b-4791-8d52-a82c269f64e6",
   "metadata": {},
   "source": [
    "### 1. VECTORS, MATRICES & ARRAYS"
   ]
  },
  {
   "cell_type": "code",
   "execution_count": 1,
   "id": "5fd41752-d12b-4ca4-8f91-a64c342d614f",
   "metadata": {},
   "outputs": [],
   "source": [
    "import numpy as np\n",
    "from scipy import sparse"
   ]
  },
  {
   "cell_type": "code",
   "execution_count": 5,
   "id": "72385589-441f-46d9-a204-420d587d23f4",
   "metadata": {},
   "outputs": [
    {
     "data": {
      "text/plain": [
       "[[0, 0], [0, 1], [3, 0]]"
      ]
     },
     "execution_count": 5,
     "metadata": {},
     "output_type": "execute_result"
    }
   ],
   "source": [
    "matrix = ([[0,0],\n",
    "          [0,1],\n",
    "          [3,0]])\n",
    "\n",
    "matrix"
   ]
  },
  {
   "cell_type": "code",
   "execution_count": 6,
   "id": "11e7eb57-0d12-4d85-9c0f-97ca7d90579f",
   "metadata": {},
   "outputs": [
    {
     "name": "stdout",
     "output_type": "stream",
     "text": [
      "  (1, 1)\t1\n",
      "  (2, 0)\t3\n"
     ]
    }
   ],
   "source": [
    "matrix_sparse = sparse.csr_matrix(matrix)\n",
    "print(matrix_sparse)"
   ]
  },
  {
   "cell_type": "code",
   "execution_count": 27,
   "id": "56cad9c4-626b-45a8-9a12-4057ce4dbe16",
   "metadata": {},
   "outputs": [
    {
     "data": {
      "text/plain": [
       "array([[3, 4, 6],\n",
       "       [7, 6, 8],\n",
       "       [3, 1, 7],\n",
       "       [6, 9, 4]])"
      ]
     },
     "execution_count": 27,
     "metadata": {},
     "output_type": "execute_result"
    }
   ],
   "source": [
    "new_matrix = ([[3, 4, 6],\n",
    "              [7, 6, 8],\n",
    "              [3, 1, 7],\n",
    "              [6, 9, 4]])\n",
    "#new_matrix.mean()\n",
    "np.std(new_matrix, axis=0)\n",
    "new_array = np.array(new_matrix)\n",
    "new_array"
   ]
  },
  {
   "cell_type": "code",
   "execution_count": 31,
   "id": "14848ba0-814c-481e-8195-c7db486907ed",
   "metadata": {},
   "outputs": [
    {
     "data": {
      "text/plain": [
       "array([[3, 4, 6, 7],\n",
       "       [6, 8, 3, 1],\n",
       "       [7, 6, 9, 4]])"
      ]
     },
     "execution_count": 31,
     "metadata": {},
     "output_type": "execute_result"
    }
   ],
   "source": [
    "my_array = new_array.reshape(3,4)\n",
    "my_array"
   ]
  },
  {
   "cell_type": "code",
   "execution_count": 32,
   "id": "f6d1c52b-8a83-4771-ba86-df56273b1e48",
   "metadata": {},
   "outputs": [
    {
     "data": {
      "text/plain": [
       "array([[3, 6, 7],\n",
       "       [4, 8, 6],\n",
       "       [6, 3, 9],\n",
       "       [7, 1, 4]])"
      ]
     },
     "execution_count": 32,
     "metadata": {},
     "output_type": "execute_result"
    }
   ],
   "source": [
    "my_array.T"
   ]
  },
  {
   "cell_type": "code",
   "execution_count": null,
   "id": "e2ba9f3a-6f30-4d27-b32f-b49e5511d323",
   "metadata": {},
   "outputs": [],
   "source": []
  }
 ],
 "metadata": {
  "kernelspec": {
   "display_name": "Python 3 (ipykernel)",
   "language": "python",
   "name": "python3"
  },
  "language_info": {
   "codemirror_mode": {
    "name": "ipython",
    "version": 3
   },
   "file_extension": ".py",
   "mimetype": "text/x-python",
   "name": "python",
   "nbconvert_exporter": "python",
   "pygments_lexer": "ipython3",
   "version": "3.11.5"
  }
 },
 "nbformat": 4,
 "nbformat_minor": 5
}
