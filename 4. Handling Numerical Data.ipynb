{
 "cells": [
  {
   "cell_type": "markdown",
   "id": "5610265b-6494-4963-ab59-5515bd6a83fb",
   "metadata": {},
   "source": [
    "### Handling Numerical Data\n",
    "- Quantitative data is the measurement of something - whether class size, monthly sales or student scores. The natural way\n",
    "to represent these quantities is numerically."
   ]
  },
  {
   "cell_type": "code",
   "execution_count": null,
   "id": "5dde03e6-9a88-44bc-9499-4d2840bb3436",
   "metadata": {},
   "outputs": [],
   "source": []
  }
 ],
 "metadata": {
  "kernelspec": {
   "display_name": "Python 3 (ipykernel)",
   "language": "python",
   "name": "python3"
  },
  "language_info": {
   "codemirror_mode": {
    "name": "ipython",
    "version": 3
   },
   "file_extension": ".py",
   "mimetype": "text/x-python",
   "name": "python",
   "nbconvert_exporter": "python",
   "pygments_lexer": "ipython3",
   "version": "3.11.5"
  }
 },
 "nbformat": 4,
 "nbformat_minor": 5
}
