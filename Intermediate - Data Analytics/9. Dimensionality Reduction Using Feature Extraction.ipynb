{
 "cells": [
  {
   "cell_type": "markdown",
   "id": "7f96dca0-8ad4-4165-a5bd-dcad1b267676",
   "metadata": {},
   "source": [
    "### Dimensionality Reduction Using Feature Extraction\n",
    "- The goal of feature extraction for dimensionality reduction is to transform our set of features, P~original~, such that we end\n",
    "  up with a new set, P~new~, where P~original~ > P~new~, while still keeping much of the undelying information.\n",
    "\n",
    "- We reduce the number of features with only a small loss in our data's ability to generate high-quality predictions."
   ]
  },
  {
   "cell_type": "code",
   "execution_count": null,
   "id": "73006f57-50b3-4da5-832f-7ddc457228d9",
   "metadata": {},
   "outputs": [],
   "source": []
  }
 ],
 "metadata": {
  "kernelspec": {
   "display_name": "Python 3 (ipykernel)",
   "language": "python",
   "name": "python3"
  },
  "language_info": {
   "codemirror_mode": {
    "name": "ipython",
    "version": 3
   },
   "file_extension": ".py",
   "mimetype": "text/x-python",
   "name": "python",
   "nbconvert_exporter": "python",
   "pygments_lexer": "ipython3",
   "version": "3.11.5"
  }
 },
 "nbformat": 4,
 "nbformat_minor": 5
}
