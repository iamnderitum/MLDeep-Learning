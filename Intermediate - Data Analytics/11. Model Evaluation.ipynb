{
 "cells": [
  {
   "cell_type": "markdown",
   "id": "de236b6a-b7d8-4d46-830a-9c81f5407dd4",
   "metadata": {},
   "source": [
    "### Model Evaluation\n",
    "- Here, we examine strategies for evaluating the quality of models created via learning algorithms."
   ]
  },
  {
   "cell_type": "code",
   "execution_count": null,
   "id": "ad7ccfbe-83fb-4b83-b0d4-2b66f4e9d29a",
   "metadata": {},
   "outputs": [],
   "source": []
  }
 ],
 "metadata": {
  "kernelspec": {
   "display_name": "Python 3 (ipykernel)",
   "language": "python",
   "name": "python3"
  },
  "language_info": {
   "codemirror_mode": {
    "name": "ipython",
    "version": 3
   },
   "file_extension": ".py",
   "mimetype": "text/x-python",
   "name": "python",
   "nbconvert_exporter": "python",
   "pygments_lexer": "ipython3",
   "version": "3.11.5"
  }
 },
 "nbformat": 4,
 "nbformat_minor": 5
}
